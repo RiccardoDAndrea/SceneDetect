{
 "cells": [
  {
   "cell_type": "markdown",
   "metadata": {},
   "source": [
    "# Fine-tune des Mobilenet_V2\n",
    "---"
   ]
  },
  {
   "cell_type": "code",
   "execution_count": null,
   "metadata": {},
   "outputs": [],
   "source": [
    "import tensorflow as tf\n",
    "import matplotlib.pyplot as plt\n",
    "import numpy as np\n",
    "from tensorflow.keras.utils import image_dataset_from_directory\n",
    "from tensorflow import keras\n",
    "from tensorflow.keras import layers\n",
    "from tensorflow.keras import layers, models\n",
    "from tensorflow.keras.optimizers import Adam\n",
    "from tensorflow.keras.preprocessing.image import ImageDataGenerator\n",
    "from tensorflow.keras.models import load_model"
   ]
  },
  {
   "cell_type": "markdown",
   "metadata": {},
   "source": [
    "## Model einladen aus Keras\n",
    "- Weights aus den Imagnet Dataset traniert\n",
    "- Erwarteten Input 224,224, 3 "
   ]
  },
  {
   "cell_type": "code",
   "execution_count": null,
   "metadata": {},
   "outputs": [],
   "source": [
    "from keras.applications.mobilenet_v2 import MobileNetV2\n",
    "\n",
    "# 1. Lade das vortrainierte MobileNetV2 Modell mit ImageNet-Gewichten\n",
    "# include_top erstellt das Neurale Netz mit den verbunden Output Layer von 1000 Klasesen\n",
    "# input shape: Das Mobilenetv2 erwarte ein Input von 224x 224, 3\n",
    "base_model = MobileNetV2(weights='imagenet', include_top=False, input_shape=(224, 224, 3))\n"
   ]
  },
  {
   "cell_type": "markdown",
   "metadata": {},
   "source": [
    "### Binary Classification"
   ]
  },
  {
   "cell_type": "markdown",
   "metadata": {},
   "source": [
    "### Weights und Bais des Hauptmodel werden eingeforen damit sie sich nicht verändern\n",
    "\n",
    "Zum Basis modell werden 3 Neue sichten hinzugefügt \n",
    "- GlobalAveragePooling2D\n",
    "- Dense Layer\n",
    "- Dense Layer mit Sigmoid für die Binäre Klassifikation"
   ]
  },
  {
   "cell_type": "code",
   "execution_count": null,
   "metadata": {},
   "outputs": [],
   "source": [
    "# 2. Friere die Basis (MobileNetV2) ein damit nicht das ganze Model neu Traniert wird da diese zulange dauert\n",
    "base_model.trainable = False\n",
    "\n",
    "# 3. Erstelle das neue Modell, indem du zusätzliche Schichten hinzufügst\n",
    "# zu den vorhanden Model werden nun drei weitere schichten hinzugefügt jedoch für eine Binäre Klassifikation da wir am\n",
    "# Ende die Aktivierungsfunktion sigmoid mitgeben \n",
    "\n",
    "\n",
    "model = models.Sequential([\n",
    "    base_model,\n",
    "    layers.GlobalAveragePooling2D(),        # Globales Pooling der Features\n",
    "    layers.Dense(1024, activation='relu'),  # Neue Dense-Schicht\n",
    "    layers.Dense(1, activation='sigmoid')   # Ausgabe-Schicht für binäre Klassifikation\n",
    "])\n"
   ]
  },
  {
   "cell_type": "code",
   "execution_count": null,
   "metadata": {},
   "outputs": [],
   "source": [
    "# 4. Kompiliere das Modell (nur die hinzugefügten Schichten werden trainiert)\n",
    "# loss binary_crossentrophy binäre Klassifiezierung Modell \n",
    "model.compile(optimizer=Adam(learning_rate=0.001),\n",
    "              loss='binary_crossentropy', # binär\n",
    "              metrics=['accuracy'])"
   ]
  },
  {
   "cell_type": "code",
   "execution_count": null,
   "metadata": {},
   "outputs": [],
   "source": [
    "# 5. Vorbereitung der Bilddaten (Beispiel: Lade Daten aus Verzeichnissen)\n",
    "# Das Modell wird Robuster gemacht indem wir das Bild mehrfach Transformieren, drehen, zommen \n",
    "train_datagen = ImageDataGenerator(rescale=1.0/255.0,  # Normalisierung\n",
    "                                   rotation_range=40,\n",
    "                                   width_shift_range=0.2,\n",
    "                                   height_shift_range=0.2,\n",
    "                                   shear_range=0.2,\n",
    "                                   zoom_range=0.2,\n",
    "                                   horizontal_flip=True,\n",
    "                                   fill_mode='nearest')\n",
    "\n",
    "val_datagen = ImageDataGenerator(rescale=1.0/255.0)"
   ]
  },
  {
   "cell_type": "code",
   "execution_count": null,
   "metadata": {},
   "outputs": [],
   "source": [
    "train_dir = r'cats_and_dogs_small\\train\\100_pic'            # Dein Trainingsdaten-Verzeichnis\n",
    "validation_dir = r'cats_and_dogs_small\\validation/100_pic'  # Dein Validierungsdaten-Verzeichnis\n",
    "\n",
    "#Achtung die Klassen werden aus dem Verzeichnis erstellt wir haben in dem Ornder \"100_pic\" zwei Weitere Ordner namens Cat und Dogs \n",
    "# woraus sich die Klassen herausstellen haben wir weitere Ordner wie Pferd und Wolf haben wir 4 Klassen\n",
    "train_generator = train_datagen.flow_from_directory(\n",
    "    train_dir,\n",
    "    target_size=(224, 224),\n",
    "    batch_size=32,\n",
    "    class_mode='binary')\n",
    "\n",
    "validation_generator = val_datagen.flow_from_directory(\n",
    "    validation_dir,\n",
    "    target_size=(224, 224),\n",
    "    batch_size=32,\n",
    "    class_mode='binary')"
   ]
  },
  {
   "cell_type": "code",
   "execution_count": null,
   "metadata": {},
   "outputs": [],
   "source": [
    "import json\n",
    "import os\n",
    "\n",
    "# Überprüfen, ob das Modell bereits existiert umso Ressourcen zupassen falls ein Modell bereits hinterlegt wurde\n",
    "path_to_model = r\"model/fine_tuned_model.keras\"\n",
    "\n",
    "if os.path.isfile(path_to_model):\n",
    "    history = load_model(path_to_model)\n",
    "    print(\"exist\")\n",
    "\n",
    "else:       \n",
    "    # Falls kein Modell da ist wird das Modell trainiert und nur das Beste modell gespeichert.\n",
    "    # Trainiere das Modell\n",
    "    history = model.fit(\n",
    "        train_generator,\n",
    "        epochs=8,\n",
    "        validation_data=validation_generator,\n",
    "        callbacks=[  # Optionale Callbacks (z.B. für das Speichern des besten Modells)\n",
    "            keras.callbacks.ModelCheckpoint('model/fine_tuned_model.keras', save_best_only=True, monitor='val_loss')\n",
    "        ]\n",
    "    )\n",
    "    \n",
    "    # Die Parameter in History werden zwischen gespeichert in einer JSON da sonst später die History nicht ausgeben werden kann.\n",
    "\n",
    "    history_dict = history.history  # Das History-Objekt enthält alle Metriken\n",
    "    with open('train_history.json', 'w') as json_file:\n",
    "        json.dump(history_dict, json_file, indent=4)\n",
    "\n",
    "# TODO: Ordner erstellen wo der JSON gespeichert wird."
   ]
  },
  {
   "cell_type": "code",
   "execution_count": null,
   "metadata": {},
   "outputs": [],
   "source": [
    "# Evaluierung des Modells auf den Validierungsdaten\n",
    "eval_results = model.evaluate(validation_generator)\n",
    "print(f\"Loss: {eval_results[0]}\")\n",
    "print(f\"Accuracy: {eval_results[1]}\")\n"
   ]
  },
  {
   "cell_type": "code",
   "execution_count": null,
   "metadata": {},
   "outputs": [],
   "source": [
    "import json\n",
    "import matplotlib.pyplot as plt\n",
    "\n",
    "# Laden der JSON-Datei mit den Trainingsdaten\n",
    "with open('train_history.json', 'r') as json_file:\n",
    "    history_dict = json.load(json_file)\n",
    "\n",
    "# Beispiel für das Plotten der Trainings- und Validierungsgenauigkeit\n",
    "plt.plot(history_dict['accuracy'], label='Training Accuracy')\n",
    "plt.plot(history_dict['val_accuracy'], label='Validation Accuracy')\n",
    "plt.title('Model Accuracy')\n",
    "plt.xlabel('Epochs')\n",
    "plt.ylabel('Accuracy')\n",
    "plt.legend()\n",
    "plt.show()\n",
    "\n",
    "# Beispiel für das Plotten des Trainings- und Validierungsverlusts\n",
    "plt.plot(history_dict['loss'], label='Training Loss')\n",
    "plt.plot(history_dict['val_loss'], label='Validation Loss')\n",
    "plt.title('Model Loss')\n",
    "plt.xlabel('Epochs')\n",
    "plt.ylabel('Loss')\n",
    "plt.legend()\n",
    "plt.show()\n"
   ]
  },
  {
   "cell_type": "code",
   "execution_count": null,
   "metadata": {},
   "outputs": [],
   "source": [
    "import tensorflow as tf\n",
    "from tensorflow.keras.preprocessing import image\n",
    "import numpy as np\n",
    "import matplotlib.pyplot as plt\n",
    "\n",
    "# 1. Lade das Bild, das du testen möchtest\n",
    "img_path = r'cats_and_dogs_small\\train\\cats\\155.jpg'  # Pfad zum Bild, das du testen möchtest\n",
    "\n",
    "# Lade das Bild und skaliere es auf die Eingabegröße des Modells\n",
    "img = image.load_img(img_path, target_size=(224, 224))\n",
    "\n",
    "# 2. Konvertiere das Bild in ein Array und normalisiere es\n",
    "img_array = image.img_to_array(img)\n",
    "img_array = np.expand_dims(img_array, axis=0)  # Füge eine Batch-Dimension hinzu\n",
    "img_array /= 255.0  # Normalisiere das Bild (falls beim Training auch normalisiert wurde)\n"
   ]
  },
  {
   "cell_type": "code",
   "execution_count": null,
   "metadata": {},
   "outputs": [],
   "source": [
    "\n",
    "# 3. Vorhersage des Modells\n",
    "predictions = model.predict(img_array)\n",
    "\n",
    "# 4. Interpretiere die Vorhersage\n",
    "# Hier nehmen wir an, dass es sich um ein binäres Klassifikationsproblem handelt\n",
    "# (z.B. Hund vs. Katze)\n",
    "\n",
    "# Bei binärer Klassifikation gibt das Modell eine Wahrscheinlichkeit zurück\n",
    "# Wenn die Wahrscheinlichkeit größer als 0.5 ist, dann gehört das Bild zur positiven Klasse\n",
    "if predictions[0] > 0.5:\n",
    "    print(\"Das Bild zeigt die Hund Klasse.\")\n",
    "else:\n",
    "    print(\"Das Bild zeigt die Katzen Klasse.\")\n",
    "\n",
    "# 5. (Optional) Visualisiere das Bild\n",
    "plt.imshow(img)\n",
    "plt.title(f'Prediction: {\"Positive\" if predictions[0] > 0.5 else \"Negative\"}')\n",
    "plt.axis('off')  # Verstecke die Achsen\n",
    "#plt.text(x=0,y=0,s=str(predictions))\n",
    "plt.show()\n",
    "print(predictions)"
   ]
  },
  {
   "cell_type": "code",
   "execution_count": null,
   "metadata": {},
   "outputs": [],
   "source": []
  },
  {
   "cell_type": "code",
   "execution_count": null,
   "metadata": {},
   "outputs": [],
   "source": []
  },
  {
   "cell_type": "code",
   "execution_count": null,
   "metadata": {},
   "outputs": [],
   "source": []
  },
  {
   "cell_type": "markdown",
   "metadata": {},
   "source": [
    "----\n",
    "\n",
    "## Mehrere Klassifikationen erstellen:"
   ]
  },
  {
   "cell_type": "code",
   "execution_count": 1,
   "metadata": {},
   "outputs": [],
   "source": [
    "from keras.applications.mobilenet_v2 import MobileNetV2\n",
    "import numpy as np\n",
    "import imageio.v2 as imageio  # Verwende imageio.v2, um das alte Verhalten beizubehalten\n",
    "from PIL import Image\n",
    "from keras.applications.mobilenet_v2 import preprocess_input\n",
    "from keras.applications.mobilenet_v2 import decode_predictions"
   ]
  },
  {
   "cell_type": "code",
   "execution_count": 2,
   "metadata": {},
   "outputs": [],
   "source": [
    "# 1. Lade das vortrainierte MobileNetV2 Modell mit ImageNet-Gewichten\n",
    "base_model = MobileNetV2(weights='imagenet', include_top=True, input_shape=(224, 224, 3))"
   ]
  },
  {
   "cell_type": "code",
   "execution_count": null,
   "metadata": {},
   "outputs": [],
   "source": [
    "# 2. Friere die Basis (MobileNetV2) ein damit nicht das ganze Model neu Traniert wird da diese zulange dauert\n",
    "base_model.trainable = False\n",
    "\n",
    "# 3. Erstelle das neue Modell, indem du zusätzliche Schichten hinzufügst\n",
    "# zu den vorhanden Model werden nun drei weitere schichten hinzugefügt jedoch für eine Binäre Klassifikation da wir am\n",
    "# Ende die Aktivierungsfunktion sigmoid mitgeben \n",
    "\n",
    "\n",
    "model_st = models.Sequential([\n",
    "    base_model,\n",
    "    layers.GlobalAveragePooling2D(),        # Globales Pooling der Features\n",
    "    layers.Dense(1024, activation='relu'),  # Neue Dense-Schicht\n",
    "    layers.Dense(1, activation='sigmoid')   # Ausgabe-Schicht für binäre Klassifikation\n",
    "])"
   ]
  },
  {
   "cell_type": "code",
   "execution_count": null,
   "metadata": {},
   "outputs": [],
   "source": []
  },
  {
   "cell_type": "code",
   "execution_count": null,
   "metadata": {},
   "outputs": [],
   "source": []
  },
  {
   "cell_type": "code",
   "execution_count": null,
   "metadata": {},
   "outputs": [],
   "source": []
  },
  {
   "cell_type": "code",
   "execution_count": 3,
   "metadata": {},
   "outputs": [],
   "source": [
    "image = r\"C:\\Users\\riandrea\\Desktop\\Github\\SceneDetect\\cats_and_dogs_small\\validation\\dogs\\1051.jpg\"\n",
    "# Bild laden\n",
    "img = imageio.imread(image)\n",
    "# Bild auf die gewünschte Größe (224, 224) skalieren\n",
    "img_resized = Image.fromarray(img).resize((224, 224))"
   ]
  },
  {
   "cell_type": "code",
   "execution_count": 4,
   "metadata": {},
   "outputs": [
    {
     "data": {
      "text/plain": [
       "(1, 224, 224, 3)"
      ]
     },
     "execution_count": 4,
     "metadata": {},
     "output_type": "execute_result"
    }
   ],
   "source": [
    "# Bild in das numpy Array einfügen\n",
    "data = np.empty((1, 224, 224, 3))\n",
    "data[0] = np.array(img_resized)\n",
    "data = preprocess_input(data)\n",
    "data.shape"
   ]
  },
  {
   "cell_type": "code",
   "execution_count": null,
   "metadata": {},
   "outputs": [],
   "source": []
  },
  {
   "cell_type": "code",
   "execution_count": 6,
   "metadata": {},
   "outputs": [
    {
     "name": "stdout",
     "output_type": "stream",
     "text": [
      "\u001b[1m1/1\u001b[0m \u001b[32m━━━━━━━━━━━━━━━━━━━━\u001b[0m\u001b[37m\u001b[0m \u001b[1m1s\u001b[0m 600ms/step\n",
      "Shape: (1, 1000)\n",
      "Most active neuron: 235 (51.03%)\n",
      "- German_shepherd (51.03%%)\n",
      "- bloodhound (9.59%%)\n",
      "- Border_terrier (3.11%%)\n",
      "- black-and-tan_coonhound (1.84%%)\n",
      "- bluetick (1.30%%)\n"
     ]
    }
   ],
   "source": [
    "predictions = base_model.predict(data)\n",
    "print('Shape: {}'.format(predictions.shape))\n",
    "output_neuron = np.argmax(predictions[0])\n",
    "print('Most active neuron: {} ({:.2f}%)'.format(\n",
    "    output_neuron,\n",
    "    100 * predictions[0][output_neuron]\n",
    "))\n",
    "for name, desc, score in decode_predictions(predictions)[0]:\n",
    "    print('- {} ({:.2f}%%)'.format(desc, 100 * score))"
   ]
  },
  {
   "cell_type": "code",
   "execution_count": null,
   "metadata": {},
   "outputs": [],
   "source": []
  },
  {
   "cell_type": "code",
   "execution_count": null,
   "metadata": {},
   "outputs": [],
   "source": []
  },
  {
   "cell_type": "code",
   "execution_count": null,
   "metadata": {},
   "outputs": [],
   "source": []
  },
  {
   "cell_type": "code",
   "execution_count": null,
   "metadata": {},
   "outputs": [],
   "source": []
  },
  {
   "cell_type": "code",
   "execution_count": null,
   "metadata": {},
   "outputs": [],
   "source": []
  },
  {
   "cell_type": "code",
   "execution_count": null,
   "metadata": {},
   "outputs": [],
   "source": []
  },
  {
   "cell_type": "code",
   "execution_count": null,
   "metadata": {},
   "outputs": [],
   "source": []
  },
  {
   "cell_type": "code",
   "execution_count": null,
   "metadata": {},
   "outputs": [],
   "source": []
  },
  {
   "cell_type": "code",
   "execution_count": null,
   "metadata": {},
   "outputs": [],
   "source": []
  },
  {
   "cell_type": "code",
   "execution_count": null,
   "metadata": {},
   "outputs": [],
   "source": []
  },
  {
   "cell_type": "code",
   "execution_count": null,
   "metadata": {},
   "outputs": [],
   "source": []
  },
  {
   "cell_type": "code",
   "execution_count": null,
   "metadata": {},
   "outputs": [],
   "source": []
  },
  {
   "cell_type": "code",
   "execution_count": null,
   "metadata": {},
   "outputs": [],
   "source": []
  },
  {
   "cell_type": "code",
   "execution_count": null,
   "metadata": {},
   "outputs": [],
   "source": []
  },
  {
   "cell_type": "code",
   "execution_count": null,
   "metadata": {},
   "outputs": [],
   "source": []
  },
  {
   "cell_type": "code",
   "execution_count": null,
   "metadata": {},
   "outputs": [],
   "source": []
  },
  {
   "cell_type": "code",
   "execution_count": null,
   "metadata": {},
   "outputs": [],
   "source": []
  },
  {
   "cell_type": "code",
   "execution_count": null,
   "metadata": {},
   "outputs": [],
   "source": []
  },
  {
   "cell_type": "code",
   "execution_count": null,
   "metadata": {},
   "outputs": [],
   "source": []
  }
 ],
 "metadata": {
  "kernelspec": {
   "display_name": "project",
   "language": "python",
   "name": "python3"
  },
  "language_info": {
   "codemirror_mode": {
    "name": "ipython",
    "version": 3
   },
   "file_extension": ".py",
   "mimetype": "text/x-python",
   "name": "python",
   "nbconvert_exporter": "python",
   "pygments_lexer": "ipython3",
   "version": "3.11.8"
  }
 },
 "nbformat": 4,
 "nbformat_minor": 2
}
